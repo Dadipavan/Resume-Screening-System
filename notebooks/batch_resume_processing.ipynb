{
 "cells": [
  {
   "cell_type": "markdown",
   "id": "22c2ac2f",
   "metadata": {},
   "source": [
    "# Batch Resume Processing Example\n",
    "This notebook demonstrates how to process multiple resumes, extract entities, compute embeddings, and save results for use in the Streamlit app."
   ]
  },
  {
   "cell_type": "code",
   "execution_count": null,
   "id": "8109e9c4",
   "metadata": {},
   "outputs": [],
   "source": [
    "# Install dependencies\n",
    "!pip install sentence-transformers hnswlib pdfminer.six pandas tqdm spacy\n",
    "import spacy\n",
    "try:\n",
    "    nlp = spacy.load('en_core_web_sm')\n",
    "except:\n",
    "    import os\n",
    "    os.system('python -m spacy download en_core_web_sm')\n",
    "    nlp = spacy.load('en_core_web_sm')"
   ]
  },
  {
   "cell_type": "code",
   "execution_count": null,
   "id": "53febebc",
   "metadata": {},
   "outputs": [],
   "source": [
    "# Upload resumes (PDF or TXT)\n",
    "from google.colab import files\n",
    "uploaded = files.upload()\n",
    "resume_files = list(uploaded.keys())\n",
    "print('Uploaded:', resume_files)"
   ]
  },
  {
   "cell_type": "code",
   "execution_count": null,
   "id": "f1bd2530",
   "metadata": {},
   "outputs": [],
   "source": [
    "# Extract text from resumes\n",
    "from pdfminer.high_level import extract_text\n",
    "resume_texts = {}\n",
    "for fname in resume_files:\n",
    "    if fname.lower().endswith('.pdf'):\n",
    "        text = extract_text(fname)\n",
    "    else:\n",
    "        with open(fname, 'r', encoding='utf-8', errors='ignore') as f:\n",
    "            text = f.read()\n",
    "    resume_texts[fname] = text\n",
    "print({k: v[:200] for k, v in resume_texts.items()})"
   ]
  },
  {
   "cell_type": "code",
   "execution_count": null,
   "id": "9c00a4d3",
   "metadata": {},
   "outputs": [],
   "source": [
    "# Entity extraction\n",
    "from src.entity_extraction import extract_entities\n",
    "entities = {fname: extract_entities(text) for fname, text in resume_texts.items()}\n",
    "import pandas as pd\n",
    "df_entities = pd.DataFrame.from_dict(entities, orient='index')\n",
    "df_entities.to_csv('resume_entities.csv')\n",
    "print(df_entities)"
   ]
  },
  {
   "cell_type": "code",
   "execution_count": null,
   "id": "64c5e680",
   "metadata": {},
   "outputs": [],
   "source": [
    "# Compute embeddings\n",
    "from sentence_transformers import SentenceTransformer\n",
    "import numpy as np\n",
    "model = SentenceTransformer('all-MiniLM-L6-v2')\n",
    "embeddings = []\n",
    "for text in resume_texts.values():\n",
    "    emb = model.encode(text, convert_to_numpy=True)\n",
    "    embeddings.append(emb)\n",
    "embeddings = np.stack(embeddings)\n",
    "np.savez_compressed('resume_embeddings.npz', embeddings=embeddings)\n",
    "print('Saved resume_embeddings.npz')"
   ]
  },
  {
   "cell_type": "code",
   "execution_count": null,
   "id": "71f14427",
   "metadata": {},
   "outputs": [],
   "source": [
    "# Download results\n",
    "files.download('resume_entities.csv')\n",
    "files.download('resume_embeddings.npz')"
   ]
  }
 ],
 "metadata": {
  "language_info": {
   "name": "python"
  }
 },
 "nbformat": 4,
 "nbformat_minor": 5
}
